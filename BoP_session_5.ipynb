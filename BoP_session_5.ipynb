{
  "nbformat": 4,
  "nbformat_minor": 0,
  "metadata": {
    "colab": {
      "provenance": [],
      "toc_visible": true
    },
    "kernelspec": {
      "name": "python3",
      "display_name": "Python 3"
    },
    "language_info": {
      "name": "python"
    }
  },
  "cells": [
    {
      "cell_type": "markdown",
      "source": [
        "# BASICS OF PYTHON | SESSION 5\n",
        "\n",
        "---\n",
        "Sina Shafiezadeh | October 2024\n",
        "---\n"
      ],
      "metadata": {
        "id": "pS4-jYwD_U5v"
      }
    },
    {
      "cell_type": "markdown",
      "source": [
        "Please follow the next steps over the next 3 hours in order to complete your exam successfully:\n",
        "\n",
        "\n",
        "1. Download **Spotify Song Attributes** dataset from [HERE](https://www.kaggle.com/datasets/geomack/spotifyclassification).\n",
        "2. Import dataset in **Google Colab**.\n",
        "3. Overview dataset and define **one reasonable question**. An important point is to select a question that you will be able to implement statistical tests and plotting.\n",
        "4. **Preprocess** the dataset to start your analysis.\n",
        "5. Implement the **statistical models**.\n",
        "6. **Plot** your results.\n",
        "7. Set up your **GitHub** account. You can get help from this [LINK](https://docs.aws.amazon.com/codedeploy/latest/userguide/tutorials-github-create-github-account.html).\n",
        "8. Upload your code and results in a **repository**.\n",
        "9. Modify the repository title and description then **publish it**.\n",
        "10. **Share your public repository** [HERE](https://docs.google.com/spreadsheets/d/1bveNOi9efLNgxqxh5uH5xhNG57bQ7DPCnG_sLAX4wmY/edit?usp=sharing).\n"
      ],
      "metadata": {
        "id": "7b9YrJx24Wjo"
      }
    },
    {
      "cell_type": "markdown",
      "source": [],
      "metadata": {
        "id": "_eC5CtXQt8OB"
      }
    },
    {
      "cell_type": "markdown",
      "source": [
        "# 1.&nbsp;Data Importing"
      ],
      "metadata": {
        "id": "anY9j--Fj79Z"
      }
    },
    {
      "cell_type": "code",
      "source": [
        "import pandas as pd\n",
        "import numpy as np"
      ],
      "metadata": {
        "id": "2X6Ymb_QesV0"
      },
      "execution_count": 67,
      "outputs": []
    },
    {
      "cell_type": "code",
      "source": [
        "from google.colab import files\n",
        "\n",
        "\n",
        "# Leggi il file CSV direttamente dal percorso dove è salvato\n",
        "data = pd.read_csv(\"/content/data.csv\")\n",
        "\n",
        "# Visualizza le prime righe del DataFrame\n",
        "print(data.head(5))"
      ],
      "metadata": {
        "colab": {
          "base_uri": "https://localhost:8080/"
        },
        "id": "WzVVdMMunbeu",
        "outputId": "24a04f1f-6395-4d99-b335-8cdbd0df9bb6"
      },
      "execution_count": 135,
      "outputs": [
        {
          "output_type": "stream",
          "name": "stdout",
          "text": [
            "   Unnamed: 0  acousticness  danceability  duration_ms  energy  \\\n",
            "0           0        0.0102         0.833       204600   0.434   \n",
            "1           1        0.1990         0.743       326933   0.359   \n",
            "2           2        0.0344         0.838       185707   0.412   \n",
            "3           3        0.6040         0.494       199413   0.338   \n",
            "4           4        0.1800         0.678       392893   0.561   \n",
            "\n",
            "   instrumentalness  key  liveness  loudness  mode  speechiness    tempo  \\\n",
            "0          0.021900    2    0.1650    -8.795     1       0.4310  150.062   \n",
            "1          0.006110    1    0.1370   -10.401     1       0.0794  160.083   \n",
            "2          0.000234    2    0.1590    -7.148     1       0.2890   75.044   \n",
            "3          0.510000    5    0.0922   -15.236     1       0.0261   86.468   \n",
            "4          0.512000    5    0.4390   -11.648     0       0.0694  174.004   \n",
            "\n",
            "   time_signature  valence  target      song_title            artist  \n",
            "0             4.0    0.286       1        Mask Off            Future  \n",
            "1             4.0    0.588       1         Redbone  Childish Gambino  \n",
            "2             4.0    0.173       1    Xanny Family            Future  \n",
            "3             4.0    0.230       1  Master Of None       Beach House  \n",
            "4             4.0    0.904       1  Parallel Lines       Junior Boys  \n"
          ]
        }
      ]
    },
    {
      "cell_type": "markdown",
      "source": [
        "# 2.&nbsp;Data Cleaning (overview)"
      ],
      "metadata": {
        "id": "BbH5OJkwF1aW"
      }
    },
    {
      "cell_type": "code",
      "source": [
        "print(data.shape)"
      ],
      "metadata": {
        "colab": {
          "base_uri": "https://localhost:8080/"
        },
        "id": "RDZKGgYMf8ea",
        "outputId": "e1b3ea06-7158-41a6-ef6b-b769d125532a"
      },
      "execution_count": 136,
      "outputs": [
        {
          "output_type": "stream",
          "name": "stdout",
          "text": [
            "(2017, 17)\n"
          ]
        }
      ]
    },
    {
      "cell_type": "code",
      "source": [
        "print(data.size)"
      ],
      "metadata": {
        "colab": {
          "base_uri": "https://localhost:8080/"
        },
        "id": "kSyyQQIyh95c",
        "outputId": "e490aff5-52fb-44ea-c34e-7e6f7099fc49"
      },
      "execution_count": 137,
      "outputs": [
        {
          "output_type": "stream",
          "name": "stdout",
          "text": [
            "34289\n"
          ]
        }
      ]
    },
    {
      "cell_type": "code",
      "source": [
        "print(data.head(5)) # first 5 rows"
      ],
      "metadata": {
        "colab": {
          "base_uri": "https://localhost:8080/"
        },
        "id": "uNKSuXYMp9R2",
        "outputId": "27865767-c630-4c00-ca00-18d3cae3ff5c"
      },
      "execution_count": 138,
      "outputs": [
        {
          "output_type": "stream",
          "name": "stdout",
          "text": [
            "   Unnamed: 0  acousticness  danceability  duration_ms  energy  \\\n",
            "0           0        0.0102         0.833       204600   0.434   \n",
            "1           1        0.1990         0.743       326933   0.359   \n",
            "2           2        0.0344         0.838       185707   0.412   \n",
            "3           3        0.6040         0.494       199413   0.338   \n",
            "4           4        0.1800         0.678       392893   0.561   \n",
            "\n",
            "   instrumentalness  key  liveness  loudness  mode  speechiness    tempo  \\\n",
            "0          0.021900    2    0.1650    -8.795     1       0.4310  150.062   \n",
            "1          0.006110    1    0.1370   -10.401     1       0.0794  160.083   \n",
            "2          0.000234    2    0.1590    -7.148     1       0.2890   75.044   \n",
            "3          0.510000    5    0.0922   -15.236     1       0.0261   86.468   \n",
            "4          0.512000    5    0.4390   -11.648     0       0.0694  174.004   \n",
            "\n",
            "   time_signature  valence  target      song_title            artist  \n",
            "0             4.0    0.286       1        Mask Off            Future  \n",
            "1             4.0    0.588       1         Redbone  Childish Gambino  \n",
            "2             4.0    0.173       1    Xanny Family            Future  \n",
            "3             4.0    0.230       1  Master Of None       Beach House  \n",
            "4             4.0    0.904       1  Parallel Lines       Junior Boys  \n"
          ]
        }
      ]
    },
    {
      "cell_type": "code",
      "source": [
        "print(data.tail(5)) # last 5 rows"
      ],
      "metadata": {
        "colab": {
          "base_uri": "https://localhost:8080/"
        },
        "id": "NjFdgWZwqDg0",
        "outputId": "d878296b-f75c-46ee-ec53-e4d868da300e"
      },
      "execution_count": 139,
      "outputs": [
        {
          "output_type": "stream",
          "name": "stdout",
          "text": [
            "      Unnamed: 0  acousticness  danceability  duration_ms  energy  \\\n",
            "2012        2012       0.00106         0.584       274404   0.932   \n",
            "2013        2013       0.08770         0.894       182182   0.892   \n",
            "2014        2014       0.00857         0.637       207200   0.935   \n",
            "2015        2015       0.00164         0.557       185600   0.992   \n",
            "2016        2016       0.00281         0.446       204520   0.915   \n",
            "\n",
            "      instrumentalness  key  liveness  loudness  mode  speechiness    tempo  \\\n",
            "2012          0.002690    1    0.1290    -3.501     1        0.333   74.976   \n",
            "2013          0.001670    1    0.0528    -2.663     1        0.131  110.041   \n",
            "2014          0.003990    0    0.2140    -2.467     1        0.107  150.082   \n",
            "2015          0.677000    1    0.0913    -2.735     1        0.133  150.011   \n",
            "2016          0.000039    9    0.2180    -6.221     1        0.141  190.013   \n",
            "\n",
            "      time_signature  valence  target                            song_title  \\\n",
            "2012             4.0    0.211       0   Like A Bitch - Kill The Noise Remix   \n",
            "2013             4.0    0.867       0                                 Candy   \n",
            "2014             4.0    0.470       0  Habit - Dack Janiels & Wenzday Remix   \n",
            "2015             4.0    0.623       0                         First Contact   \n",
            "2016             4.0    0.402       0                    I Wanna Get Better   \n",
            "\n",
            "              artist  \n",
            "2012  Kill The Noise  \n",
            "2013  Dillon Francis  \n",
            "2014        Rain Man  \n",
            "2015      Twin Moons  \n",
            "2016       Bleachers  \n"
          ]
        }
      ]
    },
    {
      "cell_type": "code",
      "source": [
        "print(data.info())"
      ],
      "metadata": {
        "colab": {
          "base_uri": "https://localhost:8080/"
        },
        "id": "K1RKzrefqtz8",
        "outputId": "1343cd4f-84a9-4be1-a9be-29679bb63027"
      },
      "execution_count": 140,
      "outputs": [
        {
          "output_type": "stream",
          "name": "stdout",
          "text": [
            "<class 'pandas.core.frame.DataFrame'>\n",
            "RangeIndex: 2017 entries, 0 to 2016\n",
            "Data columns (total 17 columns):\n",
            " #   Column            Non-Null Count  Dtype  \n",
            "---  ------            --------------  -----  \n",
            " 0   Unnamed: 0        2017 non-null   int64  \n",
            " 1   acousticness      2017 non-null   float64\n",
            " 2   danceability      2017 non-null   float64\n",
            " 3   duration_ms       2017 non-null   int64  \n",
            " 4   energy            2017 non-null   float64\n",
            " 5   instrumentalness  2017 non-null   float64\n",
            " 6   key               2017 non-null   int64  \n",
            " 7   liveness          2017 non-null   float64\n",
            " 8   loudness          2017 non-null   float64\n",
            " 9   mode              2017 non-null   int64  \n",
            " 10  speechiness       2017 non-null   float64\n",
            " 11  tempo             2017 non-null   float64\n",
            " 12  time_signature    2017 non-null   float64\n",
            " 13  valence           2017 non-null   float64\n",
            " 14  target            2017 non-null   int64  \n",
            " 15  song_title        2017 non-null   object \n",
            " 16  artist            2017 non-null   object \n",
            "dtypes: float64(10), int64(5), object(2)\n",
            "memory usage: 268.0+ KB\n",
            "None\n"
          ]
        }
      ]
    },
    {
      "cell_type": "code",
      "source": [
        "print(data.describe())"
      ],
      "metadata": {
        "colab": {
          "base_uri": "https://localhost:8080/"
        },
        "id": "oUdMA0ATq7GT",
        "outputId": "707292df-f044-43d0-8445-8a6ed90bc161"
      },
      "execution_count": 141,
      "outputs": [
        {
          "output_type": "stream",
          "name": "stdout",
          "text": [
            "        Unnamed: 0  acousticness  danceability   duration_ms       energy  \\\n",
            "count  2017.000000   2017.000000   2017.000000  2.017000e+03  2017.000000   \n",
            "mean   1008.000000      0.187590      0.618422  2.463062e+05     0.681577   \n",
            "std     582.402066      0.259989      0.161029  8.198181e+04     0.210273   \n",
            "min       0.000000      0.000003      0.122000  1.604200e+04     0.014800   \n",
            "25%     504.000000      0.009630      0.514000  2.000150e+05     0.563000   \n",
            "50%    1008.000000      0.063300      0.631000  2.292610e+05     0.715000   \n",
            "75%    1512.000000      0.265000      0.738000  2.703330e+05     0.846000   \n",
            "max    2016.000000      0.995000      0.984000  1.004627e+06     0.998000   \n",
            "\n",
            "       instrumentalness          key     liveness     loudness         mode  \\\n",
            "count       2017.000000  2017.000000  2017.000000  2017.000000  2017.000000   \n",
            "mean           0.133286     5.342588     0.190844    -7.085624     0.612295   \n",
            "std            0.273162     3.648240     0.155453     3.761684     0.487347   \n",
            "min            0.000000     0.000000     0.018800   -33.097000     0.000000   \n",
            "25%            0.000000     2.000000     0.092300    -8.394000     0.000000   \n",
            "50%            0.000076     6.000000     0.127000    -6.248000     1.000000   \n",
            "75%            0.054000     9.000000     0.247000    -4.746000     1.000000   \n",
            "max            0.976000    11.000000     0.969000    -0.307000     1.000000   \n",
            "\n",
            "       speechiness        tempo  time_signature      valence       target  \n",
            "count  2017.000000  2017.000000     2017.000000  2017.000000  2017.000000  \n",
            "mean      0.092664   121.603272        3.968270     0.496815     0.505702  \n",
            "std       0.089931    26.685604        0.255853     0.247195     0.500091  \n",
            "min       0.023100    47.859000        1.000000     0.034800     0.000000  \n",
            "25%       0.037500   100.189000        4.000000     0.295000     0.000000  \n",
            "50%       0.054900   121.427000        4.000000     0.492000     1.000000  \n",
            "75%       0.108000   137.849000        4.000000     0.691000     1.000000  \n",
            "max       0.816000   219.331000        5.000000     0.992000     1.000000  \n"
          ]
        }
      ]
    },
    {
      "cell_type": "markdown",
      "source": [
        "# 3.&nbsp;Data Cleaning (interpretability)"
      ],
      "metadata": {
        "id": "5l-pYjWiy0TX"
      }
    },
    {
      "cell_type": "code",
      "source": [
        "# to change the values of \"duration_ms\" time from milliseconds to minutes\n",
        "# replace the new value in the column\n",
        "\n",
        "data[\"duration_min\"] = round(data[\"duration_ms\"] / 60000, 2)\n",
        "\n",
        "# Elimina la vecchia colonna \"duration_ms\"\n",
        "data.drop(columns=[\"duration_ms\"], inplace=True)\n",
        "\n",
        "# Rinomina la colonna \"duration_ms\" in \"duration_min\"\n",
        "data.rename(columns={\"duration_ms\": \"duration_min\"}, inplace=True)\n",
        "\n",
        "print(data.head())\n"
      ],
      "metadata": {
        "id": "AtiQL5ze3wVb",
        "colab": {
          "base_uri": "https://localhost:8080/"
        },
        "outputId": "f8244ede-fc20-4743-99ae-0b66a445b3aa"
      },
      "execution_count": 142,
      "outputs": [
        {
          "output_type": "stream",
          "name": "stdout",
          "text": [
            "   Unnamed: 0  acousticness  danceability  energy  instrumentalness  key  \\\n",
            "0           0        0.0102         0.833   0.434          0.021900    2   \n",
            "1           1        0.1990         0.743   0.359          0.006110    1   \n",
            "2           2        0.0344         0.838   0.412          0.000234    2   \n",
            "3           3        0.6040         0.494   0.338          0.510000    5   \n",
            "4           4        0.1800         0.678   0.561          0.512000    5   \n",
            "\n",
            "   liveness  loudness  mode  speechiness    tempo  time_signature  valence  \\\n",
            "0    0.1650    -8.795     1       0.4310  150.062             4.0    0.286   \n",
            "1    0.1370   -10.401     1       0.0794  160.083             4.0    0.588   \n",
            "2    0.1590    -7.148     1       0.2890   75.044             4.0    0.173   \n",
            "3    0.0922   -15.236     1       0.0261   86.468             4.0    0.230   \n",
            "4    0.4390   -11.648     0       0.0694  174.004             4.0    0.904   \n",
            "\n",
            "   target      song_title            artist  duration_min  \n",
            "0       1        Mask Off            Future          3.41  \n",
            "1       1         Redbone  Childish Gambino          5.45  \n",
            "2       1    Xanny Family            Future          3.10  \n",
            "3       1  Master Of None       Beach House          3.32  \n",
            "4       1  Parallel Lines       Junior Boys          6.55  \n"
          ]
        }
      ]
    },
    {
      "cell_type": "markdown",
      "source": [
        "# 4.&nbsp;Data Cleaning (reduction)"
      ],
      "metadata": {
        "id": "LDCm_efBzFJL"
      }
    },
    {
      "cell_type": "code",
      "source": [
        "data.drop(data.columns[[0]], axis=1, inplace=True) #drop a column\n",
        "print(data)"
      ],
      "metadata": {
        "id": "t9m96Nxd3w38",
        "colab": {
          "base_uri": "https://localhost:8080/"
        },
        "outputId": "6e333cd0-52ff-4bf1-c24b-6e0b9eba9b92"
      },
      "execution_count": 143,
      "outputs": [
        {
          "output_type": "stream",
          "name": "stdout",
          "text": [
            "      acousticness  danceability  energy  instrumentalness  key  liveness  \\\n",
            "0          0.01020         0.833   0.434          0.021900    2    0.1650   \n",
            "1          0.19900         0.743   0.359          0.006110    1    0.1370   \n",
            "2          0.03440         0.838   0.412          0.000234    2    0.1590   \n",
            "3          0.60400         0.494   0.338          0.510000    5    0.0922   \n",
            "4          0.18000         0.678   0.561          0.512000    5    0.4390   \n",
            "...            ...           ...     ...               ...  ...       ...   \n",
            "2012       0.00106         0.584   0.932          0.002690    1    0.1290   \n",
            "2013       0.08770         0.894   0.892          0.001670    1    0.0528   \n",
            "2014       0.00857         0.637   0.935          0.003990    0    0.2140   \n",
            "2015       0.00164         0.557   0.992          0.677000    1    0.0913   \n",
            "2016       0.00281         0.446   0.915          0.000039    9    0.2180   \n",
            "\n",
            "      loudness  mode  speechiness    tempo  time_signature  valence  target  \\\n",
            "0       -8.795     1       0.4310  150.062             4.0    0.286       1   \n",
            "1      -10.401     1       0.0794  160.083             4.0    0.588       1   \n",
            "2       -7.148     1       0.2890   75.044             4.0    0.173       1   \n",
            "3      -15.236     1       0.0261   86.468             4.0    0.230       1   \n",
            "4      -11.648     0       0.0694  174.004             4.0    0.904       1   \n",
            "...        ...   ...          ...      ...             ...      ...     ...   \n",
            "2012    -3.501     1       0.3330   74.976             4.0    0.211       0   \n",
            "2013    -2.663     1       0.1310  110.041             4.0    0.867       0   \n",
            "2014    -2.467     1       0.1070  150.082             4.0    0.470       0   \n",
            "2015    -2.735     1       0.1330  150.011             4.0    0.623       0   \n",
            "2016    -6.221     1       0.1410  190.013             4.0    0.402       0   \n",
            "\n",
            "                                song_title            artist  duration_min  \n",
            "0                                 Mask Off            Future          3.41  \n",
            "1                                  Redbone  Childish Gambino          5.45  \n",
            "2                             Xanny Family            Future          3.10  \n",
            "3                           Master Of None       Beach House          3.32  \n",
            "4                           Parallel Lines       Junior Boys          6.55  \n",
            "...                                    ...               ...           ...  \n",
            "2012   Like A Bitch - Kill The Noise Remix    Kill The Noise          4.57  \n",
            "2013                                 Candy    Dillon Francis          3.04  \n",
            "2014  Habit - Dack Janiels & Wenzday Remix          Rain Man          3.45  \n",
            "2015                         First Contact        Twin Moons          3.09  \n",
            "2016                    I Wanna Get Better         Bleachers          3.41  \n",
            "\n",
            "[2017 rows x 16 columns]\n"
          ]
        }
      ]
    },
    {
      "cell_type": "code",
      "source": [
        "data.columns"
      ],
      "metadata": {
        "colab": {
          "base_uri": "https://localhost:8080/"
        },
        "id": "uvpSFIQ9v0sh",
        "outputId": "3c83c024-9107-468c-dc1d-ffb0961c8245"
      },
      "execution_count": 144,
      "outputs": [
        {
          "output_type": "execute_result",
          "data": {
            "text/plain": [
              "Index(['acousticness', 'danceability', 'energy', 'instrumentalness', 'key',\n",
              "       'liveness', 'loudness', 'mode', 'speechiness', 'tempo',\n",
              "       'time_signature', 'valence', 'target', 'song_title', 'artist',\n",
              "       'duration_min'],\n",
              "      dtype='object')"
            ]
          },
          "metadata": {},
          "execution_count": 144
        }
      ]
    },
    {
      "cell_type": "markdown",
      "source": [
        "# 5.&nbsp;Data Cleaning (noisy data)"
      ],
      "metadata": {
        "id": "Stxl8ESOzYRP"
      }
    },
    {
      "cell_type": "code",
      "source": [
        "# Mostra le righe corrispondenti ai 10 valori più alti nella colonna 'duration_min'\n",
        "top_durations_info = data.nlargest(10, 'duration_min')\n",
        "print(\"Le 10 canzoni con la durata più alta:\")\n",
        "print(top_durations_info[['song_title', 'artist', 'duration_min']])\n"
      ],
      "metadata": {
        "colab": {
          "base_uri": "https://localhost:8080/"
        },
        "id": "NVo_f0fUyrEH",
        "outputId": "9fc8f8e1-fe4c-482c-829f-6d5ec46ca2d7"
      },
      "execution_count": 147,
      "outputs": [
        {
          "output_type": "stream",
          "name": "stdout",
          "text": [
            "Le 10 canzoni con la durata più alta:\n",
            "                                             song_title  \\\n",
            "1535                                The Nearness of You   \n",
            "695   Music Is the Answer - Original Extended 12-Inc...   \n",
            "819                                 Southern Man - Live   \n",
            "1603  Viola Sonata in C Minor: III. Andante con vari...   \n",
            "1565                                      Gloomy Sunday   \n",
            "335                                              Zombie   \n",
            "404                     Who Is He And What Is He To You   \n",
            "858                              Night on Bald Mountain   \n",
            "304                              Night on Bald Mountain   \n",
            "1602  String Quintet in C Major, Op. 29: II. Adagio ...   \n",
            "\n",
            "                            artist  duration_min  \n",
            "1535                 Joshua Redman         16.74  \n",
            "695                         Celeda         14.17  \n",
            "819   Crosby, Stills, Nash & Young         13.75  \n",
            "1603             Felix Mendelssohn         13.07  \n",
            "1565             Branford Marsalis         12.72  \n",
            "335                      Fela Kuti         12.43  \n",
            "404                Creative Source         11.72  \n",
            "858              Modest Mussorgsky         11.67  \n",
            "304              Modest Mussorgsky         10.99  \n",
            "1602          Ludwig van Beethoven         10.82  \n"
          ]
        }
      ]
    },
    {
      "cell_type": "code",
      "source": [
        "# Mostra le righe corrispondenti ai 10 valori più bassi nella colonna 'duration_min'\n",
        "lowest_durations_info = data.nsmallest(10, 'duration_min')\n",
        "print(\"Le 10 canzoni con la durata più bassa:\")\n",
        "print(lowest_durations_info[['song_title', 'artist', 'duration_min']])\n"
      ],
      "metadata": {
        "colab": {
          "base_uri": "https://localhost:8080/"
        },
        "id": "p0s-uMpHyYR9",
        "outputId": "e710623c-3c05-420c-af0e-45190af73d91"
      },
      "execution_count": 146,
      "outputs": [
        {
          "output_type": "stream",
          "name": "stdout",
          "text": [
            "Le 10 canzoni con la durata più bassa:\n",
            "                                   song_title            artist  duration_min\n",
            "1044             Zac Brown Band - Hot Country   Various Artists          0.27\n",
            "1436                               dance alot   Various Artists          0.28\n",
            "1591                       Little Green Apple       Tumble Tots          0.79\n",
            "1583                         Peas Pudding Hot     The Kids Band          0.86\n",
            "936                                     Aloha        Chris Bear          0.87\n",
            "1530                   I'm a Fool to Want You  Passport Quartet          1.11\n",
            "1594  Lyric Pieces, Book I Op. 12: I. Arietta      Edvard Grieg          1.37\n",
            "804                  Just Wanna Love You Girl          Epsilons          1.38\n",
            "1593                    Icy, Creamy Ice Cream            Barney          1.46\n",
            "533                                    No Ass            FIDLAR          1.55\n"
          ]
        }
      ]
    },
    {
      "cell_type": "code",
      "source": [
        "# Filtra il DataFrame per mantenere solo i valori di duration_min tra 1.30 e 11\n",
        "data = data[(data['duration_min'] >= 1.30) & (data['duration_min'] <= 11)]\n",
        "\n",
        "# Stampa il DataFrame risultante per verificare il risultato\n",
        "print(data)\n"
      ],
      "metadata": {
        "colab": {
          "base_uri": "https://localhost:8080/"
        },
        "id": "Ih5O9PUky6Tk",
        "outputId": "e6148c72-bc62-48c7-ba0d-e4c564884fbf"
      },
      "execution_count": 150,
      "outputs": [
        {
          "output_type": "stream",
          "name": "stdout",
          "text": [
            "      acousticness  danceability  energy  instrumentalness  key  liveness  \\\n",
            "0          0.01020         0.833   0.434          0.021900    2    0.1650   \n",
            "1          0.19900         0.743   0.359          0.006110    1    0.1370   \n",
            "2          0.03440         0.838   0.412          0.000234    2    0.1590   \n",
            "3          0.60400         0.494   0.338          0.510000    5    0.0922   \n",
            "4          0.18000         0.678   0.561          0.512000    5    0.4390   \n",
            "...            ...           ...     ...               ...  ...       ...   \n",
            "2012       0.00106         0.584   0.932          0.002690    1    0.1290   \n",
            "2013       0.08770         0.894   0.892          0.001670    1    0.0528   \n",
            "2014       0.00857         0.637   0.935          0.003990    0    0.2140   \n",
            "2015       0.00164         0.557   0.992          0.677000    1    0.0913   \n",
            "2016       0.00281         0.446   0.915          0.000039    9    0.2180   \n",
            "\n",
            "      loudness  mode  speechiness    tempo  time_signature  valence  target  \\\n",
            "0       -8.795     1       0.4310  150.062             4.0    0.286       1   \n",
            "1      -10.401     1       0.0794  160.083             4.0    0.588       1   \n",
            "2       -7.148     1       0.2890   75.044             4.0    0.173       1   \n",
            "3      -15.236     1       0.0261   86.468             4.0    0.230       1   \n",
            "4      -11.648     0       0.0694  174.004             4.0    0.904       1   \n",
            "...        ...   ...          ...      ...             ...      ...     ...   \n",
            "2012    -3.501     1       0.3330   74.976             4.0    0.211       0   \n",
            "2013    -2.663     1       0.1310  110.041             4.0    0.867       0   \n",
            "2014    -2.467     1       0.1070  150.082             4.0    0.470       0   \n",
            "2015    -2.735     1       0.1330  150.011             4.0    0.623       0   \n",
            "2016    -6.221     1       0.1410  190.013             4.0    0.402       0   \n",
            "\n",
            "                                song_title            artist  duration_min  \n",
            "0                                 Mask Off            Future          3.41  \n",
            "1                                  Redbone  Childish Gambino          5.45  \n",
            "2                             Xanny Family            Future          3.10  \n",
            "3                           Master Of None       Beach House          3.32  \n",
            "4                           Parallel Lines       Junior Boys          6.55  \n",
            "...                                    ...               ...           ...  \n",
            "2012   Like A Bitch - Kill The Noise Remix    Kill The Noise          4.57  \n",
            "2013                                 Candy    Dillon Francis          3.04  \n",
            "2014  Habit - Dack Janiels & Wenzday Remix          Rain Man          3.45  \n",
            "2015                         First Contact        Twin Moons          3.09  \n",
            "2016                    I Wanna Get Better         Bleachers          3.41  \n",
            "\n",
            "[2003 rows x 16 columns]\n"
          ]
        }
      ]
    },
    {
      "cell_type": "markdown",
      "source": [
        "# 6.&nbsp;Data Cleaning (completeness)"
      ],
      "metadata": {
        "id": "iwrKQarlxh2r"
      }
    },
    {
      "cell_type": "code",
      "source": [
        "# Verifica se ci sono valori nulli nel DataFrame\n",
        "null_counts = data.isnull().sum()\n",
        "\n",
        "# Stampa il conteggio dei valori nulli per ogni colonna\n",
        "print(\"Conteggio dei valori nulli per colonna:\")\n",
        "print(null_counts)\n",
        "\n",
        "# Se ci sono valori nulli, eliminiamoli\n",
        "if null_counts.any() > 0:\n",
        "    data = data.dropna()\n",
        "    print(\"\\nValori nulli rimossi.\")\n",
        "else:\n",
        "    print(\"\\nNon ci sono valori nulli nel DataFrame.\")\n"
      ],
      "metadata": {
        "colab": {
          "base_uri": "https://localhost:8080/"
        },
        "id": "ZaXSGBFq0AKe",
        "outputId": "a44b5f39-fe6b-4dbc-b39d-6ba038f8947a"
      },
      "execution_count": 153,
      "outputs": [
        {
          "output_type": "stream",
          "name": "stdout",
          "text": [
            "Conteggio dei valori nulli per colonna:\n",
            "acousticness        0\n",
            "danceability        0\n",
            "energy              0\n",
            "instrumentalness    0\n",
            "key                 0\n",
            "liveness            0\n",
            "loudness            0\n",
            "mode                0\n",
            "speechiness         0\n",
            "tempo               0\n",
            "time_signature      0\n",
            "valence             0\n",
            "target              0\n",
            "song_title          0\n",
            "artist              0\n",
            "duration_min        0\n",
            "dtype: int64\n",
            "\n",
            "Non ci sono valori nulli nel DataFrame.\n"
          ]
        }
      ]
    },
    {
      "cell_type": "markdown",
      "source": [
        "# 7.&nbsp;Data Exploring\n"
      ],
      "metadata": {
        "id": "fD30B1eeF8QF"
      }
    },
    {
      "cell_type": "code",
      "source": [
        "# Define the columns to calculate the mean\n",
        "columns_to_average = [\n",
        "    'acousticness',\n",
        "    'danceability',\n",
        "    'energy',\n",
        "    'instrumentalness',\n",
        "    'liveness',\n",
        "    'loudness',\n",
        "    'speechiness',\n",
        "    'duration_min'\n",
        "]\n",
        "\n",
        "# Calculate the mean for each column and round to 3 decimal places\n",
        "mean_values = {col: round(data[col].mean(), 3) for col in columns_to_average}\n",
        "\n",
        "# Print the mean values\n",
        "for col, mean in mean_values.items():\n",
        "    print(f\"Mean of {col}: {mean}\")\n"
      ],
      "metadata": {
        "id": "SFugLB7H3zAz",
        "colab": {
          "base_uri": "https://localhost:8080/"
        },
        "outputId": "1312265c-fc09-4a1b-c5a3-29923e3306a6"
      },
      "execution_count": 160,
      "outputs": [
        {
          "output_type": "stream",
          "name": "stdout",
          "text": [
            "Mean of acousticness: 0.185\n",
            "Mean of danceability: 0.619\n",
            "Mean of energy: 0.683\n",
            "Mean of instrumentalness: 0.132\n",
            "Mean of liveness: 0.19\n",
            "Mean of loudness: -7.051\n",
            "Mean of speechiness: 0.093\n",
            "Mean of duration_min: 4.079\n"
          ]
        }
      ]
    },
    {
      "cell_type": "markdown",
      "source": [
        "# 8.&nbsp;Data Analysis"
      ],
      "metadata": {
        "id": "L5CGhoqnGJxO"
      }
    },
    {
      "cell_type": "code",
      "source": [
        "\n",
        "# Convert relevant columns to numeric, handling errors\n",
        "for col in data.columns:\n",
        "    if data[col].dtype == 'object':  # Check if column is of object type (likely string)\n",
        "        try:\n",
        "            data[col] = pd.to_numeric(data[col], errors='coerce')  # Convert to numeric, replace errors with NaN\n",
        "        except (ValueError, TypeError):\n",
        "            print(f\"Could not convert column '{col}' to numeric. Skipping for correlation.\")\n",
        "\n",
        "# Specify the columns you want to include in the correlation calculation\n",
        "columns_of_interest = ['danceability', 'instrumentalness']\n",
        "\n",
        "# Calculate the correlation matrix on the specified columns\n",
        "correlation_matrix = data[columns_of_interest].corr()\n",
        "\n",
        "# Mask the diagonal to avoid displaying correlations of 1\n",
        "np.fill_diagonal(correlation_matrix.values, np.nan)\n",
        "\n",
        "print(correlation_matrix)\n"
      ],
      "metadata": {
        "id": "Qcoz2MvN3zdI",
        "colab": {
          "base_uri": "https://localhost:8080/"
        },
        "outputId": "e038b561-4bdc-4aff-8fd4-f4841f540684"
      },
      "execution_count": 175,
      "outputs": [
        {
          "output_type": "stream",
          "name": "stdout",
          "text": [
            "                  danceability  instrumentalness\n",
            "danceability               NaN           -0.1220\n",
            "instrumentalness       -0.1220               NaN\n"
          ]
        }
      ]
    },
    {
      "cell_type": "markdown",
      "source": [
        "# 9.&nbsp;Data Visualization"
      ],
      "metadata": {
        "id": "KbsOltGkGhEr"
      }
    },
    {
      "cell_type": "code",
      "source": [
        "import seaborn as sns\n",
        "import matplotlib.pyplot as plt\n",
        "\n",
        "# Sample DataFrame creation for demonstration (replace this with your actual DataFrame)\n",
        "# data = pd.read_csv('your_data.csv')  # Load your data here\n",
        "\n",
        "# Convert relevant columns to numeric, handling errors\n",
        "for col in data.columns:\n",
        "    if data[col].dtype == 'object':  # Check if column is of object type (likely string)\n",
        "        try:\n",
        "            data[col] = pd.to_numeric(data[col], errors='coerce')  # Convert to numeric, replace errors with NaN\n",
        "        except (ValueError, TypeError):\n",
        "            print(f\"Could not convert column '{col}' to numeric. Skipping for correlation.\")\n",
        "\n",
        "# Select specific columns for correlation calculation\n",
        "columns_to_correlate = ['danceability', 'instrumentalness']\n",
        "correlation_matrix = data[columns_to_correlate].corr()\n",
        "\n",
        "# Set up the matplotlib figure\n",
        "plt.figure(figsize=(6, 4))\n",
        "\n",
        "# Create a heatmap using seaborn\n",
        "sns.heatmap(correlation_matrix, annot=True, cmap='coolwarm', square=True, fmt='.2f', cbar=True)\n",
        "\n",
        "# Set the title and labels\n",
        "plt.title('Correlation Heatmap between Danceability and Instrumentalness')\n",
        "plt.xticks(ticks=[0.5, 1.5], labels=columns_to_correlate, rotation=45)\n",
        "plt.yticks(ticks=[0.5, 1.5], labels=columns_to_correlate, rotation=0)\n",
        "\n",
        "# Show the plot\n",
        "plt.tight_layout()  # Adjust layout to prevent clipping of tick-labels\n",
        "plt.show()\n"
      ],
      "metadata": {
        "colab": {
          "base_uri": "https://localhost:8080/",
          "height": 407
        },
        "id": "tUnlGB8-75wo",
        "outputId": "c2430efe-5dda-4913-871d-85dc6d2fc298"
      },
      "execution_count": 177,
      "outputs": [
        {
          "output_type": "display_data",
          "data": {
            "text/plain": [
              "<Figure size 600x400 with 2 Axes>"
            ],
            "image/png": "[encoded data removed]"
          },
          "metadata": {}
        }
      ]
    },
    {
      "cell_type": "markdown",
      "source": [
        "# 10.&nbsp;Data Exporting"
      ],
      "metadata": {
        "id": "TnNFwTuHGmRS"
      }
    },
    {
      "cell_type": "code",
      "source": [
        "# Save the heatmap as a file\n",
        "plt.savefig('correlations.png', format='png', bbox_inches='tight')\n",
        "\n",
        "# Show the plot\n",
        "plt.tight_layout()  # Adjust layout to prevent clipping of tick-labels\n",
        "plt.show()\n",
        "\n",
        "# Download the saved heatmap image\n",
        "files.download('correlations.png')"
      ],
      "metadata": {
        "id": "xVmXya-I30r9",
        "colab": {
          "base_uri": "https://localhost:8080/",
          "height": 34
        },
        "outputId": "776cb059-39a0-4226-f622-4f6d0421c015"
      },
      "execution_count": 178,
      "outputs": [
        {
          "output_type": "display_data",
          "data": {
            "text/plain": [
              "<Figure size 640x480 with 0 Axes>"
            ]
          },
          "metadata": {}
        },
        {
          "output_type": "display_data",
          "data": {
            "text/plain": [
              "<IPython.core.display.Javascript object>"
            ],
            "application/javascript": [
              "\n",
              "    async function download(id, filename, size) {\n",
              "      if (!google.colab.kernel.accessAllowed) {\n",
              "        return;\n",
              "      }\n",
              "      const div = document.createElement('div');\n",
              "      const label = document.createElement('label');\n",
              "      label.textContent = `Downloading \"${filename}\": `;\n",
              "      div.appendChild(label);\n",
              "      const progress = document.createElement('progress');\n",
              "      progress.max = size;\n",
              "      div.appendChild(progress);\n",
              "      document.body.appendChild(div);\n",
              "\n",
              "      const buffers = [];\n",
              "      let downloaded = 0;\n",
              "\n",
              "      const channel = await google.colab.kernel.comms.open(id);\n",
              "      // Send a message to notify the kernel that we're ready.\n",
              "      channel.send({})\n",
              "\n",
              "      for await (const message of channel.messages) {\n",
              "        // Send a message to notify the kernel that we're ready.\n",
              "        channel.send({})\n",
              "        if (message.buffers) {\n",
              "          for (const buffer of message.buffers) {\n",
              "            buffers.push(buffer);\n",
              "            downloaded += buffer.byteLength;\n",
              "            progress.value = downloaded;\n",
              "          }\n",
              "        }\n",
              "      }\n",
              "      const blob = new Blob(buffers, {type: 'application/binary'});\n",
              "      const a = document.createElement('a');\n",
              "      a.href = window.URL.createObjectURL(blob);\n",
              "      a.download = filename;\n",
              "      div.appendChild(a);\n",
              "      a.click();\n",
              "      div.remove();\n",
              "    }\n",
              "  "
            ]
          },
          "metadata": {}
        },
        {
          "output_type": "display_data",
          "data": {
            "text/plain": [
              "<IPython.core.display.Javascript object>"
            ],
            "application/javascript": [
              "download(\"download_8fe5b508-fcd7-475e-b37b-5154e873277a\", \"correlations.png\", 2487)"
            ]
          },
          "metadata": {}
        }
      ]
    }
  ]
}